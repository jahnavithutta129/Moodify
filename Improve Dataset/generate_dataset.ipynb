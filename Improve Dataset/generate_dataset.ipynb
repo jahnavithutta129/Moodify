{
 "cells": [
  {
   "cell_type": "code",
   "execution_count": 1,
   "id": "2eac2a13",
   "metadata": {},
   "outputs": [],
   "source": [
    "import pandas as pd\n",
    "import numpy as np\n",
    "from sklearn.feature_extraction.text import TfidfVectorizer\n",
    "from sklearn.cluster import KMeans"
   ]
  },
  {
   "cell_type": "code",
   "execution_count": 2,
   "id": "48317461",
   "metadata": {},
   "outputs": [],
   "source": [
    "df=pd.read_csv('Stress posts.csv')"
   ]
  },
  {
   "cell_type": "code",
   "execution_count": 3,
   "id": "296d77d6",
   "metadata": {},
   "outputs": [],
   "source": [
    "df.columns=['id','text','time']"
   ]
  },
  {
   "cell_type": "code",
   "execution_count": 4,
   "id": "7827246d",
   "metadata": {},
   "outputs": [],
   "source": [
    "df.isnull().sum()\n",
    "df=df.dropna()"
   ]
  },
  {
   "cell_type": "code",
   "execution_count": 5,
   "id": "8cbf6809",
   "metadata": {},
   "outputs": [
    {
     "data": {
      "text/plain": [
       "0"
      ]
     },
     "execution_count": 5,
     "metadata": {},
     "output_type": "execute_result"
    }
   ],
   "source": [
    "df.duplicated().sum()"
   ]
  },
  {
   "cell_type": "code",
   "execution_count": 6,
   "id": "d45d0d64",
   "metadata": {},
   "outputs": [],
   "source": [
    "new_df=df.copy()"
   ]
  },
  {
   "cell_type": "code",
   "execution_count": 7,
   "id": "715460fe",
   "metadata": {
    "scrolled": true
   },
   "outputs": [
    {
     "name": "stderr",
     "output_type": "stream",
     "text": [
      "[nltk_data] Downloading package stopwords to\n",
      "[nltk_data]     C:\\Users\\upend\\AppData\\Roaming\\nltk_data...\n",
      "[nltk_data]   Package stopwords is already up-to-date!\n"
     ]
    },
    {
     "data": {
      "text/plain": [
       "True"
      ]
     },
     "execution_count": 7,
     "metadata": {},
     "output_type": "execute_result"
    }
   ],
   "source": [
    "import nltk\n",
    "nltk.download('stopwords')"
   ]
  },
  {
   "cell_type": "code",
   "execution_count": 8,
   "id": "671fcbd4",
   "metadata": {},
   "outputs": [],
   "source": [
    "from nltk.stem.porter import PorterStemmer\n",
    "from nltk.corpus import stopwords\n",
    "import re\n",
    "\n",
    "stemmer = PorterStemmer()\n",
    "\n",
    "# Load English stopwords\n",
    "english_stopwords = set(stopwords.words(\"english\"))\n",
    "\n",
    "def preprocess_text(text):\n",
    "    # Convert text to lowercase\n",
    "    text = str(text).lower()\n",
    "    \n",
    "    # Remove URLs\n",
    "    text = re.sub(r'https?://\\S+|www\\.\\S+', '', text)\n",
    "    \n",
    "    # Remove HTML tags\n",
    "    text = re.sub(r'<.*?>', '', text)\n",
    "    \n",
    "    # Remove digits and single characters\n",
    "    text = re.sub(r'\\b\\w\\b|\\d+', '', text)\n",
    "    \n",
    "    # Remove punctuation\n",
    "    text = re.sub(r'[^\\w\\s]', '', text)\n",
    "    \n",
    "    # Tokenize the text and remove stopwords\n",
    "    words = [word for word in text.split() if word not in english_stopwords]\n",
    "    \n",
    "    # Stem the words\n",
    "    stemmed_words = [stemmer.stem(word) for word in words]\n",
    "    \n",
    "    # Join the stemmed words back into a single string\n",
    "    processed_text = ' '.join(stemmed_words)\n",
    "    \n",
    "    return processed_text\n",
    "\n",
    "# Apply the preprocess_text function to the \"text\" column of your DataFrame\n",
    "new_df[\"text\"] = new_df[\"text\"].apply(preprocess_text)"
   ]
  },
  {
   "cell_type": "code",
   "execution_count": 9,
   "id": "16698d90",
   "metadata": {},
   "outputs": [],
   "source": [
    "tfidf_vectorizer = TfidfVectorizer()\n",
    "tfidf_matrix = tfidf_vectorizer.fit_transform(new_df['text'])"
   ]
  },
  {
   "cell_type": "code",
   "execution_count": 10,
   "id": "80a90c9e",
   "metadata": {},
   "outputs": [],
   "source": [
    "k = 2  # Number of clusters for binary output\n",
    "kmeans = KMeans(n_clusters=k, random_state=42)\n",
    "kmeans.fit(tfidf_matrix)\n",
    "\n",
    "# Assign binary labels based on cluster centroids\n",
    "centroid_labels = kmeans.predict(tfidf_matrix)\n",
    "centroid_labels_mapping = {0: 0, 1: 1}  # Mapping cluster labels to binary labels\n",
    "new_df['label'] = [centroid_labels_mapping[label] for label in centroid_labels]"
   ]
  },
  {
   "cell_type": "code",
   "execution_count": 11,
   "id": "c086f931",
   "metadata": {},
   "outputs": [
    {
     "data": {
      "text/html": [
       "<div>\n",
       "<style scoped>\n",
       "    .dataframe tbody tr th:only-of-type {\n",
       "        vertical-align: middle;\n",
       "    }\n",
       "\n",
       "    .dataframe tbody tr th {\n",
       "        vertical-align: top;\n",
       "    }\n",
       "\n",
       "    .dataframe thead th {\n",
       "        text-align: right;\n",
       "    }\n",
       "</style>\n",
       "<table border=\"1\" class=\"dataframe\">\n",
       "  <thead>\n",
       "    <tr style=\"text-align: right;\">\n",
       "      <th></th>\n",
       "      <th>id</th>\n",
       "      <th>text</th>\n",
       "      <th>time</th>\n",
       "      <th>label</th>\n",
       "    </tr>\n",
       "  </thead>\n",
       "  <tbody>\n",
       "    <tr>\n",
       "      <th>0</th>\n",
       "      <td>5</td>\n",
       "      <td>passion technolog</td>\n",
       "      <td>09-03-2017 22:00</td>\n",
       "      <td>0</td>\n",
       "    </tr>\n",
       "    <tr>\n",
       "      <th>1</th>\n",
       "      <td>5</td>\n",
       "      <td>frustrat work</td>\n",
       "      <td>05-06-2017 13:05</td>\n",
       "      <td>0</td>\n",
       "    </tr>\n",
       "    <tr>\n",
       "      <th>2</th>\n",
       "      <td>5</td>\n",
       "      <td>ram alon</td>\n",
       "      <td>04-08-2017 02:30</td>\n",
       "      <td>0</td>\n",
       "    </tr>\n",
       "    <tr>\n",
       "      <th>3</th>\n",
       "      <td>5</td>\n",
       "      <td>depress</td>\n",
       "      <td>08-09-2017 02:35</td>\n",
       "      <td>0</td>\n",
       "    </tr>\n",
       "    <tr>\n",
       "      <th>4</th>\n",
       "      <td>5</td>\n",
       "      <td>feel lone</td>\n",
       "      <td>9/14/2017 20:09</td>\n",
       "      <td>1</td>\n",
       "    </tr>\n",
       "    <tr>\n",
       "      <th>...</th>\n",
       "      <td>...</td>\n",
       "      <td>...</td>\n",
       "      <td>...</td>\n",
       "      <td>...</td>\n",
       "    </tr>\n",
       "    <tr>\n",
       "      <th>974</th>\n",
       "      <td>999</td>\n",
       "      <td>frighten ghost</td>\n",
       "      <td>3/19/2017 5:53</td>\n",
       "      <td>0</td>\n",
       "    </tr>\n",
       "    <tr>\n",
       "      <th>975</th>\n",
       "      <td>999</td>\n",
       "      <td>feel crazi</td>\n",
       "      <td>04-12-2017 19:25</td>\n",
       "      <td>1</td>\n",
       "    </tr>\n",
       "    <tr>\n",
       "      <th>976</th>\n",
       "      <td>999</td>\n",
       "      <td>feel proud friend like</td>\n",
       "      <td>12-09-2017 03:13</td>\n",
       "      <td>1</td>\n",
       "    </tr>\n",
       "    <tr>\n",
       "      <th>977</th>\n",
       "      <td>999</td>\n",
       "      <td>danger</td>\n",
       "      <td>2/13/2017 4:48</td>\n",
       "      <td>0</td>\n",
       "    </tr>\n",
       "    <tr>\n",
       "      <th>978</th>\n",
       "      <td>999</td>\n",
       "      <td>opposit anger calm empathi</td>\n",
       "      <td>6/21/2017 2:58</td>\n",
       "      <td>0</td>\n",
       "    </tr>\n",
       "  </tbody>\n",
       "</table>\n",
       "<p>978 rows × 4 columns</p>\n",
       "</div>"
      ],
      "text/plain": [
       "      id                        text              time  label\n",
       "0      5           passion technolog  09-03-2017 22:00      0\n",
       "1      5               frustrat work  05-06-2017 13:05      0\n",
       "2      5                    ram alon  04-08-2017 02:30      0\n",
       "3      5                     depress  08-09-2017 02:35      0\n",
       "4      5                   feel lone   9/14/2017 20:09      1\n",
       "..   ...                         ...               ...    ...\n",
       "974  999              frighten ghost    3/19/2017 5:53      0\n",
       "975  999                  feel crazi  04-12-2017 19:25      1\n",
       "976  999      feel proud friend like  12-09-2017 03:13      1\n",
       "977  999                      danger    2/13/2017 4:48      0\n",
       "978  999  opposit anger calm empathi    6/21/2017 2:58      0\n",
       "\n",
       "[978 rows x 4 columns]"
      ]
     },
     "execution_count": 11,
     "metadata": {},
     "output_type": "execute_result"
    }
   ],
   "source": [
    "new_df"
   ]
  },
  {
   "cell_type": "code",
   "execution_count": 14,
   "id": "e6b90480",
   "metadata": {},
   "outputs": [],
   "source": [
    "df['label']=new_df['label']"
   ]
  },
  {
   "cell_type": "code",
   "execution_count": 13,
   "id": "66821f05",
   "metadata": {},
   "outputs": [
    {
     "name": "stdout",
     "output_type": "stream",
     "text": [
      "Silhouette Score: 0.06276989362457683\n"
     ]
    }
   ],
   "source": [
    "from sklearn.metrics import silhouette_score\n",
    "silhouette_avg = silhouette_score(tfidf_matrix, kmeans.labels_)\n",
    "print(\"Silhouette Score:\", silhouette_avg)"
   ]
  },
  {
   "cell_type": "code",
   "execution_count": 15,
   "id": "8cb2ffa5",
   "metadata": {},
   "outputs": [
    {
     "data": {
      "text/html": [
       "<div>\n",
       "<style scoped>\n",
       "    .dataframe tbody tr th:only-of-type {\n",
       "        vertical-align: middle;\n",
       "    }\n",
       "\n",
       "    .dataframe tbody tr th {\n",
       "        vertical-align: top;\n",
       "    }\n",
       "\n",
       "    .dataframe thead th {\n",
       "        text-align: right;\n",
       "    }\n",
       "</style>\n",
       "<table border=\"1\" class=\"dataframe\">\n",
       "  <thead>\n",
       "    <tr style=\"text-align: right;\">\n",
       "      <th></th>\n",
       "      <th>id</th>\n",
       "      <th>text</th>\n",
       "      <th>time</th>\n",
       "      <th>label</th>\n",
       "    </tr>\n",
       "  </thead>\n",
       "  <tbody>\n",
       "    <tr>\n",
       "      <th>0</th>\n",
       "      <td>5</td>\n",
       "      <td>Passion about technologies</td>\n",
       "      <td>09-03-2017 22:00</td>\n",
       "      <td>0</td>\n",
       "    </tr>\n",
       "    <tr>\n",
       "      <th>1</th>\n",
       "      <td>5</td>\n",
       "      <td>Frustrated about work</td>\n",
       "      <td>05-06-2017 13:05</td>\n",
       "      <td>0</td>\n",
       "    </tr>\n",
       "    <tr>\n",
       "      <th>2</th>\n",
       "      <td>5</td>\n",
       "      <td>ram is alone</td>\n",
       "      <td>04-08-2017 02:30</td>\n",
       "      <td>0</td>\n",
       "    </tr>\n",
       "    <tr>\n",
       "      <th>3</th>\n",
       "      <td>5</td>\n",
       "      <td>am in depression</td>\n",
       "      <td>08-09-2017 02:35</td>\n",
       "      <td>0</td>\n",
       "    </tr>\n",
       "    <tr>\n",
       "      <th>4</th>\n",
       "      <td>5</td>\n",
       "      <td>Feeling lonely</td>\n",
       "      <td>9/14/2017 20:09</td>\n",
       "      <td>1</td>\n",
       "    </tr>\n",
       "    <tr>\n",
       "      <th>...</th>\n",
       "      <td>...</td>\n",
       "      <td>...</td>\n",
       "      <td>...</td>\n",
       "      <td>...</td>\n",
       "    </tr>\n",
       "    <tr>\n",
       "      <th>974</th>\n",
       "      <td>999</td>\n",
       "      <td>Frightened of ghost</td>\n",
       "      <td>3/19/2017 5:53</td>\n",
       "      <td>0</td>\n",
       "    </tr>\n",
       "    <tr>\n",
       "      <th>975</th>\n",
       "      <td>999</td>\n",
       "      <td>Feeling Crazy</td>\n",
       "      <td>04-12-2017 19:25</td>\n",
       "      <td>1</td>\n",
       "    </tr>\n",
       "    <tr>\n",
       "      <th>976</th>\n",
       "      <td>999</td>\n",
       "      <td>Feeling proud to have a friend like you</td>\n",
       "      <td>12-09-2017 03:13</td>\n",
       "      <td>1</td>\n",
       "    </tr>\n",
       "    <tr>\n",
       "      <th>977</th>\n",
       "      <td>999</td>\n",
       "      <td>I am in danger</td>\n",
       "      <td>2/13/2017 4:48</td>\n",
       "      <td>0</td>\n",
       "    </tr>\n",
       "    <tr>\n",
       "      <th>978</th>\n",
       "      <td>999</td>\n",
       "      <td>The opposite of anger is not calmness its empathy</td>\n",
       "      <td>6/21/2017 2:58</td>\n",
       "      <td>0</td>\n",
       "    </tr>\n",
       "  </tbody>\n",
       "</table>\n",
       "<p>978 rows × 4 columns</p>\n",
       "</div>"
      ],
      "text/plain": [
       "      id                                               text              time  \\\n",
       "0      5                         Passion about technologies  09-03-2017 22:00   \n",
       "1      5                              Frustrated about work  05-06-2017 13:05   \n",
       "2      5                                       ram is alone  04-08-2017 02:30   \n",
       "3      5                                   am in depression  08-09-2017 02:35   \n",
       "4      5                                     Feeling lonely   9/14/2017 20:09   \n",
       "..   ...                                                ...               ...   \n",
       "974  999                                Frightened of ghost    3/19/2017 5:53   \n",
       "975  999                                      Feeling Crazy  04-12-2017 19:25   \n",
       "976  999            Feeling proud to have a friend like you  12-09-2017 03:13   \n",
       "977  999                                     I am in danger    2/13/2017 4:48   \n",
       "978  999  The opposite of anger is not calmness its empathy    6/21/2017 2:58   \n",
       "\n",
       "     label  \n",
       "0        0  \n",
       "1        0  \n",
       "2        0  \n",
       "3        0  \n",
       "4        1  \n",
       "..     ...  \n",
       "974      0  \n",
       "975      1  \n",
       "976      1  \n",
       "977      0  \n",
       "978      0  \n",
       "\n",
       "[978 rows x 4 columns]"
      ]
     },
     "execution_count": 15,
     "metadata": {},
     "output_type": "execute_result"
    }
   ],
   "source": [
    "df"
   ]
  },
  {
   "cell_type": "code",
   "execution_count": 17,
   "id": "d2f4b818",
   "metadata": {},
   "outputs": [],
   "source": [
    "df.to_csv('labelled_df.csv')"
   ]
  },
  {
   "cell_type": "code",
   "execution_count": 18,
   "id": "b10b2340",
   "metadata": {},
   "outputs": [],
   "source": [
    "train_df=pd.read_csv('dreaddit-train.csv')"
   ]
  },
  {
   "cell_type": "code",
   "execution_count": 21,
   "id": "5bbdf092",
   "metadata": {},
   "outputs": [
    {
     "name": "stderr",
     "output_type": "stream",
     "text": [
      "C:\\Users\\upend\\AppData\\Local\\Temp\\ipykernel_17612\\4176694564.py:1: FutureWarning: The frame.append method is deprecated and will be removed from pandas in a future version. Use pandas.concat instead.\n",
      "  merged_df = train_df.append(df[['text', 'label']], ignore_index=True)\n"
     ]
    }
   ],
   "source": [
    "merged_df = train_df.append(df[['text', 'label']], ignore_index=True)"
   ]
  },
  {
   "cell_type": "code",
   "execution_count": 22,
   "id": "0f65583d",
   "metadata": {},
   "outputs": [
    {
     "data": {
      "text/plain": [
       "(2838, 116)"
      ]
     },
     "execution_count": 22,
     "metadata": {},
     "output_type": "execute_result"
    }
   ],
   "source": [
    "train_df.shape"
   ]
  },
  {
   "cell_type": "code",
   "execution_count": 25,
   "id": "eea88374",
   "metadata": {},
   "outputs": [],
   "source": [
    "merged_df.to_csv('improved_dataset.csv')"
   ]
  },
  {
   "cell_type": "code",
   "execution_count": null,
   "id": "b8c427ab",
   "metadata": {},
   "outputs": [],
   "source": []
  }
 ],
 "metadata": {
  "kernelspec": {
   "display_name": "Python 3 (ipykernel)",
   "language": "python",
   "name": "python3"
  },
  "language_info": {
   "codemirror_mode": {
    "name": "ipython",
    "version": 3
   },
   "file_extension": ".py",
   "mimetype": "text/x-python",
   "name": "python",
   "nbconvert_exporter": "python",
   "pygments_lexer": "ipython3",
   "version": "3.10.8"
  }
 },
 "nbformat": 4,
 "nbformat_minor": 5
}
